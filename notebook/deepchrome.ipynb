{
 "cells": [
  {
   "cell_type": "code",
   "execution_count": 103,
   "metadata": {},
   "outputs": [],
   "source": [
    "import numpy as np\n",
    "from sklearn.metrics import classification_report, recall_score, precision_score\n",
    "from sklearn.preprocessing import StandardScaler, OneHotEncoder\n",
    "from sklearn.cross_validation import train_test_split\n",
    "\n",
    "import pandas as pd\n",
    "from pickle import load, dump\n",
    "\n",
    "from keras import metrics\n",
    "import keras.backend as K\n",
    "from keras.layers import *\n",
    "from keras.layers.core import *\n",
    "from keras.layers.recurrent import *\n",
    "from keras.layers.merge import *\n",
    "from keras.layers.convolutional import *\n",
    "from keras.layers.embeddings import *\n",
    "from keras.layers.wrappers import *\n",
    "from keras.layers.normalization import *\n",
    "from keras.layers.advanced_activations import *\n",
    "from keras.models import *\n",
    "from keras.callbacks import *\n",
    "from keras.utils.vis_utils import *\n",
    "\n",
    "from IPython.display import SVG\n",
    "import matplotlib.pyplot as plt"
   ]
  },
  {
   "cell_type": "code",
   "execution_count": 104,
   "metadata": {},
   "outputs": [],
   "source": [
    "def read_data(path):\n",
    "    df = pd.read_csv(path, header=None)\n",
    "    Xs = []\n",
    "    Ys = []\n",
    "\n",
    "    for id, group in df.groupby(0):\n",
    "        X = group.values[None, :,2:-1]\n",
    "        Y = group.values[0, -1]\n",
    "        Xs.append(X)\n",
    "        Ys.append(Y)\n",
    "\n",
    "    Xs = np.concatenate(Xs)\n",
    "    Ys = keras.utils.to_categorical(np.asarray(Ys))\n",
    "    return (Xs, Ys)"
   ]
  },
  {
   "cell_type": "code",
   "execution_count": 105,
   "metadata": {},
   "outputs": [],
   "source": [
    "num_marks = 5\n",
    "length_bin = 100\n",
    "num_filters = 50\n",
    "length_filter = 10\n",
    "length_pool = 5\n",
    "length_full_1 = 625\n",
    "length_full_2 = 125"
   ]
  },
  {
   "cell_type": "code",
   "execution_count": 100,
   "metadata": {},
   "outputs": [],
   "source": [
    "Xtrain, Ytrain = read_data(\"../data/toy/train.csv\")\n",
    "Xtest, Ytest = read_data(\"../data/toy/valid.csv\")"
   ]
  },
  {
   "cell_type": "code",
   "execution_count": 108,
   "metadata": {},
   "outputs": [
    {
     "data": {
      "text/plain": [
       "(9, 2)"
      ]
     },
     "execution_count": 108,
     "metadata": {},
     "output_type": "execute_result"
    }
   ],
   "source": [
    "Ytest.shape"
   ]
  },
  {
   "cell_type": "code",
   "execution_count": 74,
   "metadata": {},
   "outputs": [
    {
     "name": "stdout",
     "output_type": "stream",
     "text": [
      "train, X size: (10, 100, 5), Y size: (10,)\n",
      "test, X size: (9, 100, 5), Y size: (9,)\n"
     ]
    }
   ],
   "source": [
    "print(f\"train, X size: {Xtrain.shape}, Y size: {Ytrain.shape}\")\n",
    "print(f\"test, X size: {Xtest.shape}, Y size: {Ytest.shape}\")"
   ]
  },
  {
   "cell_type": "markdown",
   "metadata": {},
   "source": [
    "# Model definition"
   ]
  },
  {
   "cell_type": "code",
   "execution_count": 76,
   "metadata": {},
   "outputs": [
    {
     "name": "stdout",
     "output_type": "stream",
     "text": [
      "CPU times: user 180 ms, sys: 4 ms, total: 184 ms\n",
      "Wall time: 184 ms\n"
     ]
    }
   ],
   "source": [
    "%%time \n",
    "# channel last\n",
    "input_shape = (length_bin, num_marks)\n",
    "input = Input(shape=input_shape)\n",
    "\n",
    "nn = Conv1D(num_filters, length_filter, padding='same', activation=\"relu\")(input)\n",
    "nn = MaxPooling1D(length_pool, strides=length_pool, padding='same')(nn)\n",
    "nn = Dropout(0.5)(nn)\n",
    "nn = Flatten()(nn)\n",
    "nn = Dense(length_full_1, activation=\"relu\")(nn)\n",
    "nn = Dense(length_full_2, activation=\"relu\")(nn)\n",
    "nn = Dense(1, activation=\"sigmoid\")(nn)\n",
    "\n",
    "\n",
    "clf = Model(inputs=input, outputs=nn)\n",
    "clf.compile(loss=\"binary_crossentropy\", optimizer=\"adam\", metrics=[\"acc\"])"
   ]
  },
  {
   "cell_type": "code",
   "execution_count": 77,
   "metadata": {},
   "outputs": [
    {
     "name": "stdout",
     "output_type": "stream",
     "text": [
      "_________________________________________________________________\n",
      "Layer (type)                 Output Shape              Param #   \n",
      "=================================================================\n",
      "input_8 (InputLayer)         (None, 100, 5)            0         \n",
      "_________________________________________________________________\n",
      "conv1d_7 (Conv1D)            (None, 100, 50)           2550      \n",
      "_________________________________________________________________\n",
      "max_pooling1d_4 (MaxPooling1 (None, 20, 50)            0         \n",
      "_________________________________________________________________\n",
      "dropout_4 (Dropout)          (None, 20, 50)            0         \n",
      "_________________________________________________________________\n",
      "flatten_4 (Flatten)          (None, 1000)              0         \n",
      "_________________________________________________________________\n",
      "dense_10 (Dense)             (None, 625)               625625    \n",
      "_________________________________________________________________\n",
      "dense_11 (Dense)             (None, 125)               78250     \n",
      "_________________________________________________________________\n",
      "dense_12 (Dense)             (None, 1)                 126       \n",
      "=================================================================\n",
      "Total params: 706,551\n",
      "Trainable params: 706,551\n",
      "Non-trainable params: 0\n",
      "_________________________________________________________________\n"
     ]
    },
    {
     "data": {
      "image/svg+xml": [
       "<svg height=\"556pt\" viewBox=\"0.00 0.00 262.00 556.00\" width=\"262pt\" xmlns=\"http://www.w3.org/2000/svg\" xmlns:xlink=\"http://www.w3.org/1999/xlink\">\n",
       "<g class=\"graph\" id=\"graph0\" transform=\"scale(1 1) rotate(0) translate(4 552)\">\n",
       "<title>G</title>\n",
       "<polygon fill=\"white\" points=\"-4,4 -4,-552 258,-552 258,4 -4,4\" stroke=\"none\"/>\n",
       "<!-- 140131978213248 -->\n",
       "<g class=\"node\" id=\"node1\"><title>140131978213248</title>\n",
       "<polygon fill=\"none\" points=\"47,-511.5 47,-547.5 207,-547.5 207,-511.5 47,-511.5\" stroke=\"black\"/>\n",
       "<text font-family=\"Times,serif\" font-size=\"14.00\" text-anchor=\"middle\" x=\"127\" y=\"-525.8\">input_8: InputLayer</text>\n",
       "</g>\n",
       "<!-- 140131978532008 -->\n",
       "<g class=\"node\" id=\"node2\"><title>140131978532008</title>\n",
       "<polygon fill=\"none\" points=\"51.5,-438.5 51.5,-474.5 202.5,-474.5 202.5,-438.5 51.5,-438.5\" stroke=\"black\"/>\n",
       "<text font-family=\"Times,serif\" font-size=\"14.00\" text-anchor=\"middle\" x=\"127\" y=\"-452.8\">conv1d_7: Conv1D</text>\n",
       "</g>\n",
       "<!-- 140131978213248&#45;&gt;140131978532008 -->\n",
       "<g class=\"edge\" id=\"edge1\"><title>140131978213248-&gt;140131978532008</title>\n",
       "<path d=\"M127,-511.313C127,-503.289 127,-493.547 127,-484.569\" fill=\"none\" stroke=\"black\"/>\n",
       "<polygon fill=\"black\" points=\"130.5,-484.529 127,-474.529 123.5,-484.529 130.5,-484.529\" stroke=\"black\"/>\n",
       "</g>\n",
       "<!-- 140130501995040 -->\n",
       "<g class=\"node\" id=\"node3\"><title>140130501995040</title>\n",
       "<polygon fill=\"none\" points=\"0,-365.5 0,-401.5 254,-401.5 254,-365.5 0,-365.5\" stroke=\"black\"/>\n",
       "<text font-family=\"Times,serif\" font-size=\"14.00\" text-anchor=\"middle\" x=\"127\" y=\"-379.8\">max_pooling1d_4: MaxPooling1D</text>\n",
       "</g>\n",
       "<!-- 140131978532008&#45;&gt;140130501995040 -->\n",
       "<g class=\"edge\" id=\"edge2\"><title>140131978532008-&gt;140130501995040</title>\n",
       "<path d=\"M127,-438.313C127,-430.289 127,-420.547 127,-411.569\" fill=\"none\" stroke=\"black\"/>\n",
       "<polygon fill=\"black\" points=\"130.5,-411.529 127,-401.529 123.5,-411.529 130.5,-411.529\" stroke=\"black\"/>\n",
       "</g>\n",
       "<!-- 140131978258304 -->\n",
       "<g class=\"node\" id=\"node4\"><title>140131978258304</title>\n",
       "<polygon fill=\"none\" points=\"48.5,-292.5 48.5,-328.5 205.5,-328.5 205.5,-292.5 48.5,-292.5\" stroke=\"black\"/>\n",
       "<text font-family=\"Times,serif\" font-size=\"14.00\" text-anchor=\"middle\" x=\"127\" y=\"-306.8\">dropout_4: Dropout</text>\n",
       "</g>\n",
       "<!-- 140130501995040&#45;&gt;140131978258304 -->\n",
       "<g class=\"edge\" id=\"edge3\"><title>140130501995040-&gt;140131978258304</title>\n",
       "<path d=\"M127,-365.313C127,-357.289 127,-347.547 127,-338.569\" fill=\"none\" stroke=\"black\"/>\n",
       "<polygon fill=\"black\" points=\"130.5,-338.529 127,-328.529 123.5,-338.529 130.5,-338.529\" stroke=\"black\"/>\n",
       "</g>\n",
       "<!-- 140131978256736 -->\n",
       "<g class=\"node\" id=\"node5\"><title>140131978256736</title>\n",
       "<polygon fill=\"none\" points=\"57,-219.5 57,-255.5 197,-255.5 197,-219.5 57,-219.5\" stroke=\"black\"/>\n",
       "<text font-family=\"Times,serif\" font-size=\"14.00\" text-anchor=\"middle\" x=\"127\" y=\"-233.8\">flatten_4: Flatten</text>\n",
       "</g>\n",
       "<!-- 140131978258304&#45;&gt;140131978256736 -->\n",
       "<g class=\"edge\" id=\"edge4\"><title>140131978258304-&gt;140131978256736</title>\n",
       "<path d=\"M127,-292.313C127,-284.289 127,-274.547 127,-265.569\" fill=\"none\" stroke=\"black\"/>\n",
       "<polygon fill=\"black\" points=\"130.5,-265.529 127,-255.529 123.5,-265.529 130.5,-265.529\" stroke=\"black\"/>\n",
       "</g>\n",
       "<!-- 140131978256792 -->\n",
       "<g class=\"node\" id=\"node6\"><title>140131978256792</title>\n",
       "<polygon fill=\"none\" points=\"58.5,-146.5 58.5,-182.5 195.5,-182.5 195.5,-146.5 58.5,-146.5\" stroke=\"black\"/>\n",
       "<text font-family=\"Times,serif\" font-size=\"14.00\" text-anchor=\"middle\" x=\"127\" y=\"-160.8\">dense_10: Dense</text>\n",
       "</g>\n",
       "<!-- 140131978256736&#45;&gt;140131978256792 -->\n",
       "<g class=\"edge\" id=\"edge5\"><title>140131978256736-&gt;140131978256792</title>\n",
       "<path d=\"M127,-219.313C127,-211.289 127,-201.547 127,-192.569\" fill=\"none\" stroke=\"black\"/>\n",
       "<polygon fill=\"black\" points=\"130.5,-192.529 127,-182.529 123.5,-192.529 130.5,-192.529\" stroke=\"black\"/>\n",
       "</g>\n",
       "<!-- 140130506007776 -->\n",
       "<g class=\"node\" id=\"node7\"><title>140130506007776</title>\n",
       "<polygon fill=\"none\" points=\"58.5,-73.5 58.5,-109.5 195.5,-109.5 195.5,-73.5 58.5,-73.5\" stroke=\"black\"/>\n",
       "<text font-family=\"Times,serif\" font-size=\"14.00\" text-anchor=\"middle\" x=\"127\" y=\"-87.8\">dense_11: Dense</text>\n",
       "</g>\n",
       "<!-- 140131978256792&#45;&gt;140130506007776 -->\n",
       "<g class=\"edge\" id=\"edge6\"><title>140131978256792-&gt;140130506007776</title>\n",
       "<path d=\"M127,-146.313C127,-138.289 127,-128.547 127,-119.569\" fill=\"none\" stroke=\"black\"/>\n",
       "<polygon fill=\"black\" points=\"130.5,-119.529 127,-109.529 123.5,-119.529 130.5,-119.529\" stroke=\"black\"/>\n",
       "</g>\n",
       "<!-- 140130506041888 -->\n",
       "<g class=\"node\" id=\"node8\"><title>140130506041888</title>\n",
       "<polygon fill=\"none\" points=\"58.5,-0.5 58.5,-36.5 195.5,-36.5 195.5,-0.5 58.5,-0.5\" stroke=\"black\"/>\n",
       "<text font-family=\"Times,serif\" font-size=\"14.00\" text-anchor=\"middle\" x=\"127\" y=\"-14.8\">dense_12: Dense</text>\n",
       "</g>\n",
       "<!-- 140130506007776&#45;&gt;140130506041888 -->\n",
       "<g class=\"edge\" id=\"edge7\"><title>140130506007776-&gt;140130506041888</title>\n",
       "<path d=\"M127,-73.3129C127,-65.2895 127,-55.5475 127,-46.5691\" fill=\"none\" stroke=\"black\"/>\n",
       "<polygon fill=\"black\" points=\"130.5,-46.5288 127,-36.5288 123.5,-46.5289 130.5,-46.5288\" stroke=\"black\"/>\n",
       "</g>\n",
       "</g>\n",
       "</svg>"
      ],
      "text/plain": [
       "<IPython.core.display.SVG object>"
      ]
     },
     "execution_count": 77,
     "metadata": {},
     "output_type": "execute_result"
    }
   ],
   "source": [
    "clf.summary()\n",
    "SVG(model_to_dot(clf).create(prog='dot', format='svg'))"
   ]
  },
  {
   "cell_type": "code",
   "execution_count": 78,
   "metadata": {},
   "outputs": [],
   "source": [
    "run_name = \"deepchrome toy 1\"\n",
    "tb = TensorBoard(log_dir=f\"../log/{run_name}\", batch_size=32, write_graph=True)\n",
    "checkpointer = ModelCheckpoint(filepath=f\"../model/{run_name}.h5\", verbose=1, save_best_only=True, monitor=\"val_acc\")\n",
    "stopper = EarlyStopping(monitor=\"val_acc\", patience=3)"
   ]
  },
  {
   "cell_type": "code",
   "execution_count": 79,
   "metadata": {},
   "outputs": [
    {
     "name": "stdout",
     "output_type": "stream",
     "text": [
      "Epoch 00000: val_acc improved from -inf to 0.33333, saving model to ../model/deepchrome toy 1.h5\n",
      "Epoch 00001: val_acc improved from 0.33333 to 0.77778, saving model to ../model/deepchrome toy 1.h5\n",
      "Epoch 00002: val_acc improved from 0.77778 to 1.00000, saving model to ../model/deepchrome toy 1.h5\n",
      "Epoch 00003: val_acc did not improve\n",
      "Epoch 00004: val_acc did not improve\n",
      "Epoch 00005: val_acc did not improve\n",
      "Epoch 00006: val_acc did not improve\n",
      "Epoch 00007: val_acc did not improve\n",
      "Epoch 00008: val_acc did not improve\n",
      "Epoch 00009: val_acc did not improve\n"
     ]
    },
    {
     "data": {
      "text/plain": [
       "<keras.callbacks.History at 0x7f729875af98>"
      ]
     },
     "execution_count": 79,
     "metadata": {},
     "output_type": "execute_result"
    }
   ],
   "source": [
    "clf.fit(\n",
    "    Xtrain,\n",
    "    Ytrain,\n",
    "    batch_size=2000,\n",
    "    callbacks = [tb, checkpointer],\n",
    "    epochs=10,\n",
    "    shuffle=True,\n",
    "    validation_data=(Xtest, Ytest),\n",
    "    verbose=0)"
   ]
  },
  {
   "cell_type": "code",
   "execution_count": null,
   "metadata": {},
   "outputs": [],
   "source": []
  }
 ],
 "metadata": {
  "kernelspec": {
   "display_name": "Python 3",
   "language": "python",
   "name": "python3"
  },
  "language_info": {
   "codemirror_mode": {
    "name": "ipython",
    "version": 3
   },
   "file_extension": ".py",
   "mimetype": "text/x-python",
   "name": "python",
   "nbconvert_exporter": "python",
   "pygments_lexer": "ipython3",
   "version": "3.6.2"
  }
 },
 "nbformat": 4,
 "nbformat_minor": 2
}
