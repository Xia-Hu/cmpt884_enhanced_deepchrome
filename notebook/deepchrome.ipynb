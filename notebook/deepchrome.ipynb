{
 "cells": [
  {
   "cell_type": "code",
   "execution_count": 1,
   "metadata": {},
   "outputs": [
    {
     "name": "stderr",
     "output_type": "stream",
     "text": [
      "/home/wooya/.pyenv/versions/3.6.2/lib/python3.6/site-packages/sklearn/cross_validation.py:41: DeprecationWarning: This module was deprecated in version 0.18 in favor of the model_selection module into which all the refactored classes and functions are moved. Also note that the interface of the new CV iterators are different from that of this module. This module will be removed in 0.20.\n",
      "  \"This module will be removed in 0.20.\", DeprecationWarning)\n",
      "Using TensorFlow backend.\n"
     ]
    }
   ],
   "source": [
    "import numpy as np\n",
    "from sklearn.metrics import classification_report, recall_score, precision_score\n",
    "from sklearn.preprocessing import StandardScaler, OneHotEncoder\n",
    "from sklearn.cross_validation import train_test_split\n",
    "\n",
    "import pandas as pd\n",
    "from pickle import load, dump\n",
    "\n",
    "from keras import metrics\n",
    "import keras.backend as K\n",
    "from keras.layers import *\n",
    "from keras.layers.core import *\n",
    "from keras.layers.recurrent import *\n",
    "from keras.layers.merge import *\n",
    "from keras.layers.convolutional import *\n",
    "from keras.layers.embeddings import *\n",
    "from keras.layers.wrappers import *\n",
    "from keras.layers.normalization import *\n",
    "from keras.layers.advanced_activations import *\n",
    "from keras.models import *\n",
    "from keras.callbacks import *\n",
    "from keras.utils.vis_utils import *\n",
    "from keras.utils import *\n",
    "\n",
    "from IPython.display import SVG\n",
    "import matplotlib.pyplot as plt"
   ]
  },
  {
   "cell_type": "code",
   "execution_count": 16,
   "metadata": {},
   "outputs": [],
   "source": [
    "def read_data(path):\n",
    "    Xs, Ys = pd.read_pickle(path)\n",
    "    \n",
    "\n",
    "    Xtrain, Xvalid, Xtest = Xs[:,:5725], Xs[:,5725:5725*2], Xs[:,5725*2:]\n",
    "    Xtrain, Xvalid, Xtest = Xtrain.reshape(-1, *Xtrain.shape[2:]), Xvalid.reshape(-1, *Xvalid.shape[2:]), Xtest.reshape(-1, *Xtest.shape[2:])\n",
    "    \n",
    "    Ytrain, Yvalid, Ytest = Ys[:,:5725], Ys[:,5725:5725*2], Ys[:,5725*2:]\n",
    "    Ytrain, Yvalid, Ytest = Ytrain.reshape(-1), Yvalid.reshape(-1), Ytest.reshape(-1)\n",
    "    Ytrain, Yvalid, Ytest = to_categorical(Ytrain), to_categorical(Yvalid), to_categorical(Ytest)\n",
    "    return Xtrain, Xvalid, Xtest, Ytrain, Yvalid, Ytest"
   ]
  },
  {
   "cell_type": "code",
   "execution_count": 20,
   "metadata": {},
   "outputs": [],
   "source": [
    "num_marks = 5\n",
    "length_bin = 100\n",
    "num_filters = 50\n",
    "length_filter = 10\n",
    "length_pool = 5\n",
    "length_full_1 = 625\n",
    "length_full_2 = 125"
   ]
  },
  {
   "cell_type": "code",
   "execution_count": 17,
   "metadata": {},
   "outputs": [],
   "source": [
    "Xtrain, Xvalid, Xtest, Ytrain, Yvalid, Ytest = read_data(\"../data/input.pkl\")\n"
   ]
  },
  {
   "cell_type": "code",
   "execution_count": 18,
   "metadata": {},
   "outputs": [
    {
     "name": "stdout",
     "output_type": "stream",
     "text": [
      "train, X size: (91600, 100, 5), Y size: (91600, 2)\n",
      "test, X size: (91616, 100, 5), Y size: (91616, 2)\n"
     ]
    }
   ],
   "source": [
    "print(f\"train, X size: {Xtrain.shape}, Y size: {Ytrain.shape}\")\n",
    "print(f\"test, X size: {Xtest.shape}, Y size: {Ytest.shape}\")"
   ]
  },
  {
   "cell_type": "markdown",
   "metadata": {},
   "source": [
    "# Model definition"
   ]
  },
  {
   "cell_type": "code",
   "execution_count": 25,
   "metadata": {},
   "outputs": [
    {
     "name": "stdout",
     "output_type": "stream",
     "text": [
      "CPU times: user 184 ms, sys: 0 ns, total: 184 ms\n",
      "Wall time: 184 ms\n"
     ]
    }
   ],
   "source": [
    "%%time \n",
    "# channel last\n",
    "input_shape = (length_bin, num_marks)\n",
    "input = Input(shape=input_shape)\n",
    "\n",
    "nn = Conv1D(num_filters, length_filter, padding='same', activation=\"relu\")(input)\n",
    "nn = MaxPooling1D(length_pool, strides=length_pool, padding='same')(nn)\n",
    "nn = Dropout(0.5)(nn)\n",
    "nn = Flatten()(nn)\n",
    "nn = Dense(length_full_1, activation=\"relu\")(nn)\n",
    "nn = Dense(length_full_2, activation=\"relu\")(nn)\n",
    "nn = Dense(2, activation=\"softmax\")(nn)\n",
    "\n",
    "\n",
    "clf = Model(inputs=input, outputs=nn)\n",
    "clf.compile(loss=\"categorical_crossentropy\", optimizer=\"adam\", metrics=[\"acc\"])"
   ]
  },
  {
   "cell_type": "code",
   "execution_count": 26,
   "metadata": {},
   "outputs": [
    {
     "name": "stdout",
     "output_type": "stream",
     "text": [
      "_________________________________________________________________\n",
      "Layer (type)                 Output Shape              Param #   \n",
      "=================================================================\n",
      "input_2 (InputLayer)         (None, 100, 5)            0         \n",
      "_________________________________________________________________\n",
      "conv1d_2 (Conv1D)            (None, 100, 50)           2550      \n",
      "_________________________________________________________________\n",
      "max_pooling1d_2 (MaxPooling1 (None, 20, 50)            0         \n",
      "_________________________________________________________________\n",
      "dropout_2 (Dropout)          (None, 20, 50)            0         \n",
      "_________________________________________________________________\n",
      "flatten_2 (Flatten)          (None, 1000)              0         \n",
      "_________________________________________________________________\n",
      "dense_4 (Dense)              (None, 625)               625625    \n",
      "_________________________________________________________________\n",
      "dense_5 (Dense)              (None, 125)               78250     \n",
      "_________________________________________________________________\n",
      "dense_6 (Dense)              (None, 2)                 252       \n",
      "=================================================================\n",
      "Total params: 706,677\n",
      "Trainable params: 706,677\n",
      "Non-trainable params: 0\n",
      "_________________________________________________________________\n"
     ]
    },
    {
     "data": {
      "image/svg+xml": [
       "<svg height=\"556pt\" viewBox=\"0.00 0.00 262.00 556.00\" width=\"262pt\" xmlns=\"http://www.w3.org/2000/svg\" xmlns:xlink=\"http://www.w3.org/1999/xlink\">\n",
       "<g class=\"graph\" id=\"graph0\" transform=\"scale(1 1) rotate(0) translate(4 552)\">\n",
       "<title>G</title>\n",
       "<polygon fill=\"white\" points=\"-4,4 -4,-552 258,-552 258,4 -4,4\" stroke=\"none\"/>\n",
       "<!-- 140226865472568 -->\n",
       "<g class=\"node\" id=\"node1\"><title>140226865472568</title>\n",
       "<polygon fill=\"none\" points=\"47,-511.5 47,-547.5 207,-547.5 207,-511.5 47,-511.5\" stroke=\"black\"/>\n",
       "<text font-family=\"Times,serif\" font-size=\"14.00\" text-anchor=\"middle\" x=\"127\" y=\"-525.8\">input_2: InputLayer</text>\n",
       "</g>\n",
       "<!-- 140226865473128 -->\n",
       "<g class=\"node\" id=\"node2\"><title>140226865473128</title>\n",
       "<polygon fill=\"none\" points=\"51.5,-438.5 51.5,-474.5 202.5,-474.5 202.5,-438.5 51.5,-438.5\" stroke=\"black\"/>\n",
       "<text font-family=\"Times,serif\" font-size=\"14.00\" text-anchor=\"middle\" x=\"127\" y=\"-452.8\">conv1d_2: Conv1D</text>\n",
       "</g>\n",
       "<!-- 140226865472568&#45;&gt;140226865473128 -->\n",
       "<g class=\"edge\" id=\"edge1\"><title>140226865472568-&gt;140226865473128</title>\n",
       "<path d=\"M127,-511.313C127,-503.289 127,-493.547 127,-484.569\" fill=\"none\" stroke=\"black\"/>\n",
       "<polygon fill=\"black\" points=\"130.5,-484.529 127,-474.529 123.5,-484.529 130.5,-484.529\" stroke=\"black\"/>\n",
       "</g>\n",
       "<!-- 140226865472960 -->\n",
       "<g class=\"node\" id=\"node3\"><title>140226865472960</title>\n",
       "<polygon fill=\"none\" points=\"0,-365.5 0,-401.5 254,-401.5 254,-365.5 0,-365.5\" stroke=\"black\"/>\n",
       "<text font-family=\"Times,serif\" font-size=\"14.00\" text-anchor=\"middle\" x=\"127\" y=\"-379.8\">max_pooling1d_2: MaxPooling1D</text>\n",
       "</g>\n",
       "<!-- 140226865473128&#45;&gt;140226865472960 -->\n",
       "<g class=\"edge\" id=\"edge2\"><title>140226865473128-&gt;140226865472960</title>\n",
       "<path d=\"M127,-438.313C127,-430.289 127,-420.547 127,-411.569\" fill=\"none\" stroke=\"black\"/>\n",
       "<polygon fill=\"black\" points=\"130.5,-411.529 127,-401.529 123.5,-411.529 130.5,-411.529\" stroke=\"black\"/>\n",
       "</g>\n",
       "<!-- 140226865473632 -->\n",
       "<g class=\"node\" id=\"node4\"><title>140226865473632</title>\n",
       "<polygon fill=\"none\" points=\"48.5,-292.5 48.5,-328.5 205.5,-328.5 205.5,-292.5 48.5,-292.5\" stroke=\"black\"/>\n",
       "<text font-family=\"Times,serif\" font-size=\"14.00\" text-anchor=\"middle\" x=\"127\" y=\"-306.8\">dropout_2: Dropout</text>\n",
       "</g>\n",
       "<!-- 140226865472960&#45;&gt;140226865473632 -->\n",
       "<g class=\"edge\" id=\"edge3\"><title>140226865472960-&gt;140226865473632</title>\n",
       "<path d=\"M127,-365.313C127,-357.289 127,-347.547 127,-338.569\" fill=\"none\" stroke=\"black\"/>\n",
       "<polygon fill=\"black\" points=\"130.5,-338.529 127,-328.529 123.5,-338.529 130.5,-338.529\" stroke=\"black\"/>\n",
       "</g>\n",
       "<!-- 140226865651496 -->\n",
       "<g class=\"node\" id=\"node5\"><title>140226865651496</title>\n",
       "<polygon fill=\"none\" points=\"57,-219.5 57,-255.5 197,-255.5 197,-219.5 57,-219.5\" stroke=\"black\"/>\n",
       "<text font-family=\"Times,serif\" font-size=\"14.00\" text-anchor=\"middle\" x=\"127\" y=\"-233.8\">flatten_2: Flatten</text>\n",
       "</g>\n",
       "<!-- 140226865473632&#45;&gt;140226865651496 -->\n",
       "<g class=\"edge\" id=\"edge4\"><title>140226865473632-&gt;140226865651496</title>\n",
       "<path d=\"M127,-292.313C127,-284.289 127,-274.547 127,-265.569\" fill=\"none\" stroke=\"black\"/>\n",
       "<polygon fill=\"black\" points=\"130.5,-265.529 127,-255.529 123.5,-265.529 130.5,-265.529\" stroke=\"black\"/>\n",
       "</g>\n",
       "<!-- 140226865651440 -->\n",
       "<g class=\"node\" id=\"node6\"><title>140226865651440</title>\n",
       "<polygon fill=\"none\" points=\"63,-146.5 63,-182.5 191,-182.5 191,-146.5 63,-146.5\" stroke=\"black\"/>\n",
       "<text font-family=\"Times,serif\" font-size=\"14.00\" text-anchor=\"middle\" x=\"127\" y=\"-160.8\">dense_4: Dense</text>\n",
       "</g>\n",
       "<!-- 140226865651496&#45;&gt;140226865651440 -->\n",
       "<g class=\"edge\" id=\"edge5\"><title>140226865651496-&gt;140226865651440</title>\n",
       "<path d=\"M127,-219.313C127,-211.289 127,-201.547 127,-192.569\" fill=\"none\" stroke=\"black\"/>\n",
       "<polygon fill=\"black\" points=\"130.5,-192.529 127,-182.529 123.5,-192.529 130.5,-192.529\" stroke=\"black\"/>\n",
       "</g>\n",
       "<!-- 140226865851360 -->\n",
       "<g class=\"node\" id=\"node7\"><title>140226865851360</title>\n",
       "<polygon fill=\"none\" points=\"63,-73.5 63,-109.5 191,-109.5 191,-73.5 63,-73.5\" stroke=\"black\"/>\n",
       "<text font-family=\"Times,serif\" font-size=\"14.00\" text-anchor=\"middle\" x=\"127\" y=\"-87.8\">dense_5: Dense</text>\n",
       "</g>\n",
       "<!-- 140226865651440&#45;&gt;140226865851360 -->\n",
       "<g class=\"edge\" id=\"edge6\"><title>140226865651440-&gt;140226865851360</title>\n",
       "<path d=\"M127,-146.313C127,-138.289 127,-128.547 127,-119.569\" fill=\"none\" stroke=\"black\"/>\n",
       "<polygon fill=\"black\" points=\"130.5,-119.529 127,-109.529 123.5,-119.529 130.5,-119.529\" stroke=\"black\"/>\n",
       "</g>\n",
       "<!-- 140225396307840 -->\n",
       "<g class=\"node\" id=\"node8\"><title>140225396307840</title>\n",
       "<polygon fill=\"none\" points=\"63,-0.5 63,-36.5 191,-36.5 191,-0.5 63,-0.5\" stroke=\"black\"/>\n",
       "<text font-family=\"Times,serif\" font-size=\"14.00\" text-anchor=\"middle\" x=\"127\" y=\"-14.8\">dense_6: Dense</text>\n",
       "</g>\n",
       "<!-- 140226865851360&#45;&gt;140225396307840 -->\n",
       "<g class=\"edge\" id=\"edge7\"><title>140226865851360-&gt;140225396307840</title>\n",
       "<path d=\"M127,-73.3129C127,-65.2895 127,-55.5475 127,-46.5691\" fill=\"none\" stroke=\"black\"/>\n",
       "<polygon fill=\"black\" points=\"130.5,-46.5288 127,-36.5288 123.5,-46.5289 130.5,-46.5288\" stroke=\"black\"/>\n",
       "</g>\n",
       "</g>\n",
       "</svg>"
      ],
      "text/plain": [
       "<IPython.core.display.SVG object>"
      ]
     },
     "execution_count": 26,
     "metadata": {},
     "output_type": "execute_result"
    }
   ],
   "source": [
    "clf.summary()\n",
    "SVG(model_to_dot(clf).create(prog='dot', format='svg'))"
   ]
  },
  {
   "cell_type": "code",
   "execution_count": 27,
   "metadata": {},
   "outputs": [],
   "source": [
    "run_name = \"deepchrome real 1\"\n",
    "tb = TensorBoard(log_dir=f\"../log/{run_name}\", batch_size=32, write_graph=True)\n",
    "checkpointer = ModelCheckpoint(filepath=f\"../model/{run_name}.h5\", verbose=1, save_best_only=True, monitor=\"val_acc\")\n",
    "stopper = EarlyStopping(monitor=\"val_acc\", patience=3)"
   ]
  },
  {
   "cell_type": "code",
   "execution_count": null,
   "metadata": {},
   "outputs": [
    {
     "name": "stdout",
     "output_type": "stream",
     "text": [
      "Epoch 00000: val_acc improved from -inf to 0.52090, saving model to ../model/deepchrome real 1.h5\n",
      "Epoch 00001: val_acc did not improve\n",
      "Epoch 00002: val_acc did not improve\n",
      "Epoch 00003: val_acc did not improve\n",
      "Epoch 00004: val_acc did not improve\n",
      "Epoch 00005: val_acc improved from 0.52090 to 0.52231, saving model to ../model/deepchrome real 1.h5\n",
      "Epoch 00006: val_acc did not improve\n",
      "Epoch 00007: val_acc did not improve\n",
      "Epoch 00008: val_acc did not improve\n",
      "Epoch 00009: val_acc did not improve\n",
      "Epoch 00010: val_acc did not improve\n",
      "Epoch 00011: val_acc did not improve\n",
      "Epoch 00012: val_acc did not improve\n",
      "Epoch 00013: val_acc did not improve\n",
      "Epoch 00014: val_acc did not improve\n",
      "Epoch 00015: val_acc did not improve\n",
      "Epoch 00016: val_acc did not improve\n"
     ]
    }
   ],
   "source": [
    "clf.fit(\n",
    "    Xtrain,\n",
    "    Ytrain,\n",
    "    batch_size=2000,\n",
    "    callbacks = [tb, checkpointer],\n",
    "    epochs=1000,\n",
    "    shuffle=True,\n",
    "    validation_data=(Xvalid, Yvalid),\n",
    "    verbose=0)"
   ]
  }
 ],
 "metadata": {
  "kernelspec": {
   "display_name": "Python 3",
   "language": "python",
   "name": "python3"
  },
  "language_info": {
   "codemirror_mode": {
    "name": "ipython",
    "version": 3
   },
   "file_extension": ".py",
   "mimetype": "text/x-python",
   "name": "python",
   "nbconvert_exporter": "python",
   "pygments_lexer": "ipython3",
   "version": "3.6.2"
  }
 },
 "nbformat": 4,
 "nbformat_minor": 2
}
