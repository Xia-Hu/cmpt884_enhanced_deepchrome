{
 "cells": [
  {
   "cell_type": "code",
   "execution_count": 24,
   "metadata": {},
   "outputs": [],
   "source": [
    "import numpy as np\n",
    "from sklearn.metrics import classification_report, recall_score, precision_score\n",
    "from sklearn.preprocessing import StandardScaler\n",
    "from sklearn.cross_validation import train_test_split\n",
    "\n",
    "import pandas as pd\n",
    "from pickle import load, dump\n",
    "\n",
    "from keras import metrics\n",
    "import keras.backend as K\n",
    "from keras.layers import *\n",
    "from keras.layers.core import *\n",
    "from keras.layers.recurrent import *\n",
    "from keras.layers.merge import *\n",
    "from keras.layers.convolutional import *\n",
    "from keras.layers.embeddings import *\n",
    "from keras.layers.wrappers import *\n",
    "from keras.layers.normalization import *\n",
    "from keras.layers.advanced_activations import *\n",
    "from keras.models import *\n",
    "from keras.callbacks import *\n",
    "from keras.utils.vis_utils import *\n",
    "\n",
    "from IPython.display import SVG\n",
    "import matplotlib.pyplot as plt"
   ]
  },
  {
   "cell_type": "code",
   "execution_count": 2,
   "metadata": {},
   "outputs": [],
   "source": [
    "num_train = 2000"
   ]
  },
  {
   "cell_type": "code",
   "execution_count": 4,
   "metadata": {},
   "outputs": [],
   "source": [
    "num_marks = 5\n",
    "length_bin = 100\n",
    "num_filters = 50\n",
    "length_filter = 10\n",
    "length_pool = 5\n",
    "length_full_1 = 625\n",
    "length_full_2 = 125"
   ]
  },
  {
   "cell_type": "code",
   "execution_count": 12,
   "metadata": {},
   "outputs": [],
   "source": [
    "Xtrain = np.random.random((num_train, length_bin, num_marks))\n",
    "Ytrain = np.random.randint(2, size=(num_train))"
   ]
  },
  {
   "cell_type": "code",
   "execution_count": 32,
   "metadata": {},
   "outputs": [],
   "source": [
    "Xtest = np.random.random((num_train, length_bin, num_marks))\n",
    "Ytest = np.random.randint(2, size=num_train)"
   ]
  },
  {
   "cell_type": "code",
   "execution_count": 31,
   "metadata": {},
   "outputs": [
    {
     "name": "stdout",
     "output_type": "stream",
     "text": [
      "train, X size: (2000, 100, 5), Y size: (2000,)\n",
      "test, X size: (2000, 100, 5), Y size: (2000,)\n"
     ]
    }
   ],
   "source": [
    "print(f\"train, X size: {Xtrain.shape}, Y size: {Ytrain.shape}\")\n",
    "print(f\"test, X size: {Xtest.shape}, Y size: {Ytest.shape}\")"
   ]
  },
  {
   "cell_type": "markdown",
   "metadata": {},
   "source": [
    "# Model define"
   ]
  },
  {
   "cell_type": "code",
   "execution_count": 22,
   "metadata": {},
   "outputs": [
    {
     "name": "stdout",
     "output_type": "stream",
     "text": [
      "CPU times: user 192 ms, sys: 4 ms, total: 196 ms\n",
      "Wall time: 196 ms\n"
     ]
    }
   ],
   "source": [
    "%%time \n",
    "# channel last\n",
    "input_shape = (length_bin, num_marks)\n",
    "input = Input(shape=input_shape)\n",
    "\n",
    "nn = Conv1D(num_filters, length_filter, padding='same', activation=\"relu\")(input)\n",
    "nn = MaxPooling1D(length_pool, strides=length_pool, padding='same')(nn)\n",
    "nn = Dropout(0.5)(nn)\n",
    "nn = Flatten()(nn)\n",
    "nn = Dense(length_full_1, activation=\"relu\")(nn)\n",
    "nn = Dense(length_full_2, activation=\"relu\")(nn)\n",
    "nn = Dense(1, activation=\"sigmoid\")(nn)\n",
    "\n",
    "\n",
    "clf = Model(inputs=input, outputs=nn)\n",
    "clf.compile(loss=\"binary_crossentropy\", optimizer=\"adam\", metrics=[\"acc\"])"
   ]
  },
  {
   "cell_type": "code",
   "execution_count": 23,
   "metadata": {},
   "outputs": [
    {
     "name": "stdout",
     "output_type": "stream",
     "text": [
      "_________________________________________________________________\n",
      "Layer (type)                 Output Shape              Param #   \n",
      "=================================================================\n",
      "input_6 (InputLayer)         (None, 100, 5)            0         \n",
      "_________________________________________________________________\n",
      "conv1d_5 (Conv1D)            (None, 100, 50)           2550      \n",
      "_________________________________________________________________\n",
      "max_pooling1d_2 (MaxPooling1 (None, 20, 50)            0         \n",
      "_________________________________________________________________\n",
      "dropout_2 (Dropout)          (None, 20, 50)            0         \n",
      "_________________________________________________________________\n",
      "flatten_2 (Flatten)          (None, 1000)              0         \n",
      "_________________________________________________________________\n",
      "dense_4 (Dense)              (None, 625)               625625    \n",
      "_________________________________________________________________\n",
      "dense_5 (Dense)              (None, 125)               78250     \n",
      "_________________________________________________________________\n",
      "dense_6 (Dense)              (None, 1)                 126       \n",
      "=================================================================\n",
      "Total params: 706,551\n",
      "Trainable params: 706,551\n",
      "Non-trainable params: 0\n",
      "_________________________________________________________________\n"
     ]
    },
    {
     "data": {
      "image/svg+xml": [
       "<svg height=\"556pt\" viewBox=\"0.00 0.00 262.00 556.00\" width=\"262pt\" xmlns=\"http://www.w3.org/2000/svg\" xmlns:xlink=\"http://www.w3.org/1999/xlink\">\n",
       "<g class=\"graph\" id=\"graph0\" transform=\"scale(1 1) rotate(0) translate(4 552)\">\n",
       "<title>G</title>\n",
       "<polygon fill=\"white\" points=\"-4,4 -4,-552 258,-552 258,4 -4,4\" stroke=\"none\"/>\n",
       "<!-- 140130503796216 -->\n",
       "<g class=\"node\" id=\"node1\"><title>140130503796216</title>\n",
       "<polygon fill=\"none\" points=\"47,-511.5 47,-547.5 207,-547.5 207,-511.5 47,-511.5\" stroke=\"black\"/>\n",
       "<text font-family=\"Times,serif\" font-size=\"14.00\" text-anchor=\"middle\" x=\"127\" y=\"-525.8\">input_6: InputLayer</text>\n",
       "</g>\n",
       "<!-- 140130503796384 -->\n",
       "<g class=\"node\" id=\"node2\"><title>140130503796384</title>\n",
       "<polygon fill=\"none\" points=\"51.5,-438.5 51.5,-474.5 202.5,-474.5 202.5,-438.5 51.5,-438.5\" stroke=\"black\"/>\n",
       "<text font-family=\"Times,serif\" font-size=\"14.00\" text-anchor=\"middle\" x=\"127\" y=\"-452.8\">conv1d_5: Conv1D</text>\n",
       "</g>\n",
       "<!-- 140130503796216&#45;&gt;140130503796384 -->\n",
       "<g class=\"edge\" id=\"edge1\"><title>140130503796216-&gt;140130503796384</title>\n",
       "<path d=\"M127,-511.313C127,-503.289 127,-493.547 127,-484.569\" fill=\"none\" stroke=\"black\"/>\n",
       "<polygon fill=\"black\" points=\"130.5,-484.529 127,-474.529 123.5,-484.529 130.5,-484.529\" stroke=\"black\"/>\n",
       "</g>\n",
       "<!-- 140130503796608 -->\n",
       "<g class=\"node\" id=\"node3\"><title>140130503796608</title>\n",
       "<polygon fill=\"none\" points=\"0,-365.5 0,-401.5 254,-401.5 254,-365.5 0,-365.5\" stroke=\"black\"/>\n",
       "<text font-family=\"Times,serif\" font-size=\"14.00\" text-anchor=\"middle\" x=\"127\" y=\"-379.8\">max_pooling1d_2: MaxPooling1D</text>\n",
       "</g>\n",
       "<!-- 140130503796384&#45;&gt;140130503796608 -->\n",
       "<g class=\"edge\" id=\"edge2\"><title>140130503796384-&gt;140130503796608</title>\n",
       "<path d=\"M127,-438.313C127,-430.289 127,-420.547 127,-411.569\" fill=\"none\" stroke=\"black\"/>\n",
       "<polygon fill=\"black\" points=\"130.5,-411.529 127,-401.529 123.5,-411.529 130.5,-411.529\" stroke=\"black\"/>\n",
       "</g>\n",
       "<!-- 140130503361032 -->\n",
       "<g class=\"node\" id=\"node4\"><title>140130503361032</title>\n",
       "<polygon fill=\"none\" points=\"48.5,-292.5 48.5,-328.5 205.5,-328.5 205.5,-292.5 48.5,-292.5\" stroke=\"black\"/>\n",
       "<text font-family=\"Times,serif\" font-size=\"14.00\" text-anchor=\"middle\" x=\"127\" y=\"-306.8\">dropout_2: Dropout</text>\n",
       "</g>\n",
       "<!-- 140130503796608&#45;&gt;140130503361032 -->\n",
       "<g class=\"edge\" id=\"edge3\"><title>140130503796608-&gt;140130503361032</title>\n",
       "<path d=\"M127,-365.313C127,-357.289 127,-347.547 127,-338.569\" fill=\"none\" stroke=\"black\"/>\n",
       "<polygon fill=\"black\" points=\"130.5,-338.529 127,-328.529 123.5,-338.529 130.5,-338.529\" stroke=\"black\"/>\n",
       "</g>\n",
       "<!-- 140130503362096 -->\n",
       "<g class=\"node\" id=\"node5\"><title>140130503362096</title>\n",
       "<polygon fill=\"none\" points=\"57,-219.5 57,-255.5 197,-255.5 197,-219.5 57,-219.5\" stroke=\"black\"/>\n",
       "<text font-family=\"Times,serif\" font-size=\"14.00\" text-anchor=\"middle\" x=\"127\" y=\"-233.8\">flatten_2: Flatten</text>\n",
       "</g>\n",
       "<!-- 140130503361032&#45;&gt;140130503362096 -->\n",
       "<g class=\"edge\" id=\"edge4\"><title>140130503361032-&gt;140130503362096</title>\n",
       "<path d=\"M127,-292.313C127,-284.289 127,-274.547 127,-265.569\" fill=\"none\" stroke=\"black\"/>\n",
       "<polygon fill=\"black\" points=\"130.5,-265.529 127,-255.529 123.5,-265.529 130.5,-265.529\" stroke=\"black\"/>\n",
       "</g>\n",
       "<!-- 140130503448112 -->\n",
       "<g class=\"node\" id=\"node6\"><title>140130503448112</title>\n",
       "<polygon fill=\"none\" points=\"63,-146.5 63,-182.5 191,-182.5 191,-146.5 63,-146.5\" stroke=\"black\"/>\n",
       "<text font-family=\"Times,serif\" font-size=\"14.00\" text-anchor=\"middle\" x=\"127\" y=\"-160.8\">dense_4: Dense</text>\n",
       "</g>\n",
       "<!-- 140130503362096&#45;&gt;140130503448112 -->\n",
       "<g class=\"edge\" id=\"edge5\"><title>140130503362096-&gt;140130503448112</title>\n",
       "<path d=\"M127,-219.313C127,-211.289 127,-201.547 127,-192.569\" fill=\"none\" stroke=\"black\"/>\n",
       "<polygon fill=\"black\" points=\"130.5,-192.529 127,-182.529 123.5,-192.529 130.5,-192.529\" stroke=\"black\"/>\n",
       "</g>\n",
       "<!-- 140130503232480 -->\n",
       "<g class=\"node\" id=\"node7\"><title>140130503232480</title>\n",
       "<polygon fill=\"none\" points=\"63,-73.5 63,-109.5 191,-109.5 191,-73.5 63,-73.5\" stroke=\"black\"/>\n",
       "<text font-family=\"Times,serif\" font-size=\"14.00\" text-anchor=\"middle\" x=\"127\" y=\"-87.8\">dense_5: Dense</text>\n",
       "</g>\n",
       "<!-- 140130503448112&#45;&gt;140130503232480 -->\n",
       "<g class=\"edge\" id=\"edge6\"><title>140130503448112-&gt;140130503232480</title>\n",
       "<path d=\"M127,-146.313C127,-138.289 127,-128.547 127,-119.569\" fill=\"none\" stroke=\"black\"/>\n",
       "<polygon fill=\"black\" points=\"130.5,-119.529 127,-109.529 123.5,-119.529 130.5,-119.529\" stroke=\"black\"/>\n",
       "</g>\n",
       "<!-- 140130502907888 -->\n",
       "<g class=\"node\" id=\"node8\"><title>140130502907888</title>\n",
       "<polygon fill=\"none\" points=\"63,-0.5 63,-36.5 191,-36.5 191,-0.5 63,-0.5\" stroke=\"black\"/>\n",
       "<text font-family=\"Times,serif\" font-size=\"14.00\" text-anchor=\"middle\" x=\"127\" y=\"-14.8\">dense_6: Dense</text>\n",
       "</g>\n",
       "<!-- 140130503232480&#45;&gt;140130502907888 -->\n",
       "<g class=\"edge\" id=\"edge7\"><title>140130503232480-&gt;140130502907888</title>\n",
       "<path d=\"M127,-73.3129C127,-65.2895 127,-55.5475 127,-46.5691\" fill=\"none\" stroke=\"black\"/>\n",
       "<polygon fill=\"black\" points=\"130.5,-46.5288 127,-36.5288 123.5,-46.5289 130.5,-46.5288\" stroke=\"black\"/>\n",
       "</g>\n",
       "</g>\n",
       "</svg>"
      ],
      "text/plain": [
       "<IPython.core.display.SVG object>"
      ]
     },
     "execution_count": 23,
     "metadata": {},
     "output_type": "execute_result"
    }
   ],
   "source": [
    "clf.summary()\n",
    "SVG(model_to_dot(clf).create(prog='dot', format='svg'))"
   ]
  },
  {
   "cell_type": "code",
   "execution_count": 37,
   "metadata": {},
   "outputs": [],
   "source": [
    "run_name = \"deepchrome 3\"\n",
    "tb = TensorBoard(log_dir=f\"../log/{run_name}\", batch_size=32, write_graph=True)\n",
    "checkpointer = ModelCheckpoint(filepath=f\"../model/{run_name}.h5\", verbose=1, save_best_only=True, monitor=\"val_acc\")\n",
    "stopper = EarlyStopping(monitor=\"val_acc\", patience=3)"
   ]
  },
  {
   "cell_type": "code",
   "execution_count": 38,
   "metadata": {},
   "outputs": [
    {
     "name": "stdout",
     "output_type": "stream",
     "text": [
      "Epoch 00000: val_acc improved from -inf to 0.48800, saving model to ../model/deepchrome 3.h5\n",
      "Epoch 00001: val_acc did not improve\n",
      "Epoch 00002: val_acc improved from 0.48800 to 0.49750, saving model to ../model/deepchrome 3.h5\n",
      "Epoch 00003: val_acc did not improve\n",
      "Epoch 00004: val_acc did not improve\n",
      "Epoch 00005: val_acc did not improve\n",
      "Epoch 00006: val_acc did not improve\n",
      "Epoch 00007: val_acc did not improve\n",
      "Epoch 00008: val_acc did not improve\n",
      "Epoch 00009: val_acc did not improve\n"
     ]
    },
    {
     "data": {
      "text/plain": [
       "<keras.callbacks.History at 0x7f72ad07a860>"
      ]
     },
     "execution_count": 38,
     "metadata": {},
     "output_type": "execute_result"
    }
   ],
   "source": [
    "clf.fit(\n",
    "    Xtrain,\n",
    "    Ytrain,\n",
    "    batch_size=2000,\n",
    "    callbacks = [tb, checkpointer],\n",
    "    epochs=10,\n",
    "    shuffle=True,\n",
    "    validation_data=(Xtest, Ytest),\n",
    "    verbose=0)"
   ]
  }
 ],
 "metadata": {
  "kernelspec": {
   "display_name": "Python 3",
   "language": "python",
   "name": "python3"
  },
  "language_info": {
   "codemirror_mode": {
    "name": "ipython",
    "version": 3
   },
   "file_extension": ".py",
   "mimetype": "text/x-python",
   "name": "python",
   "nbconvert_exporter": "python",
   "pygments_lexer": "ipython3",
   "version": "3.6.2"
  }
 },
 "nbformat": 4,
 "nbformat_minor": 2
}
