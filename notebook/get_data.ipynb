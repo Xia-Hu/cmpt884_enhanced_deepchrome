{
 "cells": [
  {
   "cell_type": "code",
   "execution_count": 1,
   "metadata": {},
   "outputs": [],
   "source": [
    "import pandas as pd\n",
    "import numpy as np\n",
    "from subprocess import run\n",
    "import requests\n",
    "from gzip import decompress\n",
    "from pathlib import Path"
   ]
  },
  {
   "cell_type": "code",
   "execution_count": 57,
   "metadata": {},
   "outputs": [],
   "source": [
    "gene_address = pd.read_csv(\"../data/ensg.csv\", delimiter=\"\\t\")\n",
    "gene_expresson = pd.read_csv(\"../data/57epigenomes.RPKM.pc\", delimiter=\"\\t\", index_col=False)"
   ]
  },
  {
   "cell_type": "code",
   "execution_count": 59,
   "metadata": {},
   "outputs": [],
   "source": [
    "gene_address = pd.read_csv(\"../data/Ensembl_v65.Gencode_v10.ENSG.gene_info\", delimiter=\"\\t\", index_col=False, header=None)\n",
    "gene_address = gene_address[[0,1,2,3,4]]\n",
    "gene_address.columns = [\"gene\", \"chrom\", \"start\", \"end\", \"strand\"]"
   ]
  },
  {
   "cell_type": "code",
   "execution_count": 61,
   "metadata": {},
   "outputs": [],
   "source": [
    "gene_address.chrom = gene_address.chrom.map(lambda x: \"chr\"+x)"
   ]
  },
  {
   "cell_type": "code",
   "execution_count": 64,
   "metadata": {},
   "outputs": [],
   "source": [
    "available_genes = np.intersect1d(gene_address.gene, gene_expresson.gene_id)\n",
    "available_genes.sort()"
   ]
  },
  {
   "cell_type": "markdown",
   "metadata": {},
   "source": [
    "# Gen interest bed file"
   ]
  },
  {
   "cell_type": "code",
   "execution_count": 65,
   "metadata": {},
   "outputs": [],
   "source": [
    "gene_address = gene_address.set_index(\"gene\").loc[available_genes].reset_index()"
   ]
  },
  {
   "cell_type": "code",
   "execution_count": 66,
   "metadata": {},
   "outputs": [],
   "source": [
    "gene_address = gene_address.sort_values(by=[\"chrom\", \"gene\", \"start\"])"
   ]
  },
  {
   "cell_type": "code",
   "execution_count": 67,
   "metadata": {},
   "outputs": [],
   "source": [
    "gene_address = gene_address.drop_duplicates(subset=[\"chrom\", \"gene\"]).copy()"
   ]
  },
  {
   "cell_type": "code",
   "execution_count": 69,
   "metadata": {},
   "outputs": [],
   "source": [
    "gene_address.loc[:,\"calStart\"] = np.clip(gene_address.start - 5000, 0, 10000000000)\n",
    "gene_address.loc[:,\"calEnd\"] = gene_address.start + 5000"
   ]
  },
  {
   "cell_type": "code",
   "execution_count": 70,
   "metadata": {},
   "outputs": [],
   "source": [
    "arr = []\n",
    "for _, gene, chrom, _, _, _, start, end in gene_address.itertuples():\n",
    "    if end - start != 10000:\n",
    "        continue\n",
    "    for x in range(start, end, 100):\n",
    "        arr.append((chrom, x, x+100, gene))\n",
    "    "
   ]
  },
  {
   "cell_type": "code",
   "execution_count": 71,
   "metadata": {},
   "outputs": [],
   "source": [
    "pd.DataFrame(arr).to_csv(\"../data/interest.v2.bed\", sep=\"\\t\", header=False, index=False)"
   ]
  },
  {
   "cell_type": "markdown",
   "metadata": {},
   "source": [
    "# Get Chip-seq Data"
   ]
  },
  {
   "cell_type": "code",
   "execution_count": 5,
   "metadata": {},
   "outputs": [],
   "source": [
    "epigenomes = gene_expresson.columns[2:]\n",
    "histones = [\"H3K27me3\", \"H3K36me3\", \"H3K4me1\", \"H3K4me3\", \"H3K9me3\"]"
   ]
  },
  {
   "cell_type": "code",
   "execution_count": 6,
   "metadata": {},
   "outputs": [],
   "source": [
    "for epigenome in epigenomes:\n",
    "    for histone in histones:\n",
    "        dataaddr = f\"http://egg2.wustl.edu/roadmap/data/byFileType/alignments/consolidated/{epigenome}-{histone}.tagAlign.gz\"\n",
    "        indexaddr = f\"http://egg2.wustl.edu/roadmap/data/byFileType/alignments/consolidated/{epigenome}-{histone}.tagAlign.gz.tbi\"\n",
    "        \n",
    "        datatarget = f\"../data/{epigenome}-{histone}.bed\"\n",
    "        indextarget = f\"../data/{epigenome}-{histone}.bed.tbi\"\n",
    "        \n",
    "        if not Path(datatarget).is_file():\n",
    "            resp = requests.get(dataaddr)\n",
    "            if resp.status_code == 200:\n",
    "                with open(datatarget, \"wb\") as f:\n",
    "                    f.write(decompress(resp.content))\n",
    "            else:\n",
    "                print(f\"Get {epigenome}-{histone}.tagAlign.gz failed\")\n",
    "                \n",
    "        if not Path(indextarget).is_file():\n",
    "            resp = requests.get(indexaddr)\n",
    "            if resp.status_code == 200:\n",
    "                with open(indextarget, \"wb\") as f:\n",
    "                    f.write(decompress(resp.content))\n",
    "            else:\n",
    "                print(f\"Get {epigenome}-{histone}.tagAlign.gz.tbi failed\")"
   ]
  }
 ],
 "metadata": {
  "kernelspec": {
   "display_name": "Python 3",
   "language": "python",
   "name": "python3"
  },
  "language_info": {
   "codemirror_mode": {
    "name": "ipython",
    "version": 3
   },
   "file_extension": ".py",
   "mimetype": "text/x-python",
   "name": "python",
   "nbconvert_exporter": "python",
   "pygments_lexer": "ipython3",
   "version": "3.6.2"
  }
 },
 "nbformat": 4,
 "nbformat_minor": 2
}
