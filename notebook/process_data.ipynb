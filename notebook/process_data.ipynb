{
 "cells": [
  {
   "cell_type": "code",
   "execution_count": 193,
   "metadata": {},
   "outputs": [],
   "source": [
    "import pandas as pd\n",
    "from subprocess import run, PIPE\n",
    "from pathlib import Path\n",
    "from joblib import Parallel, delayed\n",
    "import numpy as np\n",
    "from pickle import dump"
   ]
  },
  {
   "cell_type": "code",
   "execution_count": 136,
   "metadata": {},
   "outputs": [],
   "source": [
    "gene_expresson = pd.read_csv(\"../data/57epigenomes.RPKM.pc\", delimiter=\"\\t\", index_col=False)\n",
    "epigenomes = gene_expresson.columns[2:]\n",
    "histones = [\"H3K27me3\", \"H3K36me3\", \"H3K4me1\", \"H3K4me3\", \"H3K9me3\"]"
   ]
  },
  {
   "cell_type": "code",
   "execution_count": 137,
   "metadata": {},
   "outputs": [],
   "source": [
    "NTHREADS = 16\n"
   ]
  },
  {
   "cell_type": "markdown",
   "metadata": {},
   "source": [
    "# Convert to bam"
   ]
  },
  {
   "cell_type": "code",
   "execution_count": 27,
   "metadata": {},
   "outputs": [],
   "source": [
    "def do(filename):\n",
    "    result = run(\n",
    "        f\"bedtools bedtobam -i ../data/{filename}.bed -g ../data/hg19chrom.sizes\".split(), \n",
    "        stdout=PIPE, stderr=PIPE\n",
    "    )\n",
    "    if result.returncode != 0:\n",
    "        print(f\"Command fail\")\n",
    "        print(result.stdout, result.stderr)\n",
    "\n",
    "    with open(f\"../data/{filename}.bam\", \"wb\") as f:\n",
    "        f.write(result.stdout)\n",
    "\n",
    "filenames = []\n",
    "for epigenome in epigenomes:\n",
    "    for histone in histones:\n",
    "        filename = f\"{epigenome}-{histone}\"\n",
    "#         print(f\"Current: {filename}\")\n",
    "        if Path(f\"../data/{filename}.bam\").is_file():\n",
    "#             print(f\"{filename} exists, skip\")\n",
    "            continue\n",
    "        filenames.append(filename)\n",
    "        \n",
    "_ = Parallel(n_jobs=NTHREADS)(delayed(do)(filename) for filename in filenames)\n"
   ]
  },
  {
   "cell_type": "markdown",
   "metadata": {},
   "source": [
    "# Sort"
   ]
  },
  {
   "cell_type": "code",
   "execution_count": 25,
   "metadata": {},
   "outputs": [
    {
     "name": "stdout",
     "output_type": "stream",
     "text": [
      "CPU times: user 36 ms, sys: 316 ms, total: 352 ms\n",
      "Wall time: 516 ms\n"
     ]
    }
   ],
   "source": [
    "%%time\n",
    "def do(filename):\n",
    "    result = run(\n",
    "        f\"samtools sort ../data/{filename}.bam ../data/{filename}.sort\".split(), \n",
    "        stdout=PIPE, stderr=PIPE\n",
    "    )\n",
    "filenames = []\n",
    "for epigenome in epigenomes:\n",
    "    for histone in histones:\n",
    "        filename = f\"{epigenome}-{histone}\"\n",
    "        if Path(f\"../data/{filename}.sort.bam\").is_file():\n",
    "            continue\n",
    "        filenames.append(filename)\n",
    "_ = Parallel(n_jobs=NTHREADS)(delayed(do)(filename) for filename in filenames)"
   ]
  },
  {
   "cell_type": "markdown",
   "metadata": {},
   "source": [
    "# Index"
   ]
  },
  {
   "cell_type": "code",
   "execution_count": 24,
   "metadata": {},
   "outputs": [],
   "source": [
    "def do(filename):\n",
    "    result = run(\n",
    "        f\"samtools index ../data/{filename}.sort.bam\".split(), \n",
    "        stdout=PIPE, stderr=PIPE\n",
    "    )\n",
    "filenames = []\n",
    "for epigenome in epigenomes:\n",
    "    for histone in histones:\n",
    "        filename = f\"{epigenome}-{histone}\"\n",
    "        if Path(f\"../data/{filename}.sort.bam.bai\").is_file():\n",
    "            continue\n",
    "        filenames.append(filename)\n",
    "_ = Parallel(n_jobs=NTHREADS)(delayed(do)(filename) for filename in filenames)"
   ]
  },
  {
   "cell_type": "markdown",
   "metadata": {},
   "source": [
    "# Generate X"
   ]
  },
  {
   "cell_type": "code",
   "execution_count": 140,
   "metadata": {},
   "outputs": [
    {
     "name": "stdout",
     "output_type": "stream",
     "text": [
      "[('../data/E053-H3K27me3.sort.bam ../data/E053-H3K36me3.sort.bam ../data/E053-H3K4me1.sort.bam ../data/E053-H3K4me3.sort.bam ../data/E053-H3K9me3.sort.bam', 'E053'), ('../data/E054-H3K27me3.sort.bam ../data/E054-H3K36me3.sort.bam ../data/E054-H3K4me1.sort.bam ../data/E054-H3K4me3.sort.bam ../data/E054-H3K9me3.sort.bam', 'E054'), ('../data/E055-H3K27me3.sort.bam ../data/E055-H3K36me3.sort.bam ../data/E055-H3K4me1.sort.bam ../data/E055-H3K4me3.sort.bam ../data/E055-H3K9me3.sort.bam', 'E055'), ('../data/E056-H3K27me3.sort.bam ../data/E056-H3K36me3.sort.bam ../data/E056-H3K4me1.sort.bam ../data/E056-H3K4me3.sort.bam ../data/E056-H3K9me3.sort.bam', 'E056'), ('../data/E057-H3K27me3.sort.bam ../data/E057-H3K36me3.sort.bam ../data/E057-H3K4me1.sort.bam ../data/E057-H3K4me3.sort.bam ../data/E057-H3K9me3.sort.bam', 'E057'), ('../data/E058-H3K27me3.sort.bam ../data/E058-H3K36me3.sort.bam ../data/E058-H3K4me1.sort.bam ../data/E058-H3K4me3.sort.bam ../data/E058-H3K9me3.sort.bam', 'E058'), ('../data/E059-H3K27me3.sort.bam ../data/E059-H3K36me3.sort.bam ../data/E059-H3K4me1.sort.bam ../data/E059-H3K4me3.sort.bam ../data/E059-H3K9me3.sort.bam', 'E059'), ('../data/E061-H3K27me3.sort.bam ../data/E061-H3K36me3.sort.bam ../data/E061-H3K4me1.sort.bam ../data/E061-H3K4me3.sort.bam ../data/E061-H3K9me3.sort.bam', 'E061'), ('../data/E062-H3K27me3.sort.bam ../data/E062-H3K36me3.sort.bam ../data/E062-H3K4me1.sort.bam ../data/E062-H3K4me3.sort.bam ../data/E062-H3K9me3.sort.bam', 'E062'), ('../data/E065-H3K27me3.sort.bam ../data/E065-H3K36me3.sort.bam ../data/E065-H3K4me1.sort.bam ../data/E065-H3K4me3.sort.bam ../data/E065-H3K9me3.sort.bam', 'E065'), ('../data/E066-H3K27me3.sort.bam ../data/E066-H3K36me3.sort.bam ../data/E066-H3K4me1.sort.bam ../data/E066-H3K4me3.sort.bam ../data/E066-H3K9me3.sort.bam', 'E066'), ('../data/E070-H3K27me3.sort.bam ../data/E070-H3K36me3.sort.bam ../data/E070-H3K4me1.sort.bam ../data/E070-H3K4me3.sort.bam ../data/E070-H3K9me3.sort.bam', 'E070'), ('../data/E071-H3K27me3.sort.bam ../data/E071-H3K36me3.sort.bam ../data/E071-H3K4me1.sort.bam ../data/E071-H3K4me3.sort.bam ../data/E071-H3K9me3.sort.bam', 'E071'), ('../data/E079-H3K27me3.sort.bam ../data/E079-H3K36me3.sort.bam ../data/E079-H3K4me1.sort.bam ../data/E079-H3K4me3.sort.bam ../data/E079-H3K9me3.sort.bam', 'E079'), ('../data/E082-H3K27me3.sort.bam ../data/E082-H3K36me3.sort.bam ../data/E082-H3K4me1.sort.bam ../data/E082-H3K4me3.sort.bam ../data/E082-H3K9me3.sort.bam', 'E082'), ('../data/E084-H3K27me3.sort.bam ../data/E084-H3K36me3.sort.bam ../data/E084-H3K4me1.sort.bam ../data/E084-H3K4me3.sort.bam ../data/E084-H3K9me3.sort.bam', 'E084'), ('../data/E085-H3K27me3.sort.bam ../data/E085-H3K36me3.sort.bam ../data/E085-H3K4me1.sort.bam ../data/E085-H3K4me3.sort.bam ../data/E085-H3K9me3.sort.bam', 'E085'), ('../data/E087-H3K27me3.sort.bam ../data/E087-H3K36me3.sort.bam ../data/E087-H3K4me1.sort.bam ../data/E087-H3K4me3.sort.bam ../data/E087-H3K9me3.sort.bam', 'E087'), ('../data/E094-H3K27me3.sort.bam ../data/E094-H3K36me3.sort.bam ../data/E094-H3K4me1.sort.bam ../data/E094-H3K4me3.sort.bam ../data/E094-H3K9me3.sort.bam', 'E094'), ('../data/E095-H3K27me3.sort.bam ../data/E095-H3K36me3.sort.bam ../data/E095-H3K4me1.sort.bam ../data/E095-H3K4me3.sort.bam ../data/E095-H3K9me3.sort.bam', 'E095'), ('../data/E096-H3K27me3.sort.bam ../data/E096-H3K36me3.sort.bam ../data/E096-H3K4me1.sort.bam ../data/E096-H3K4me3.sort.bam ../data/E096-H3K9me3.sort.bam', 'E096'), ('../data/E097-H3K27me3.sort.bam ../data/E097-H3K36me3.sort.bam ../data/E097-H3K4me1.sort.bam ../data/E097-H3K4me3.sort.bam ../data/E097-H3K9me3.sort.bam', 'E097'), ('../data/E098-H3K27me3.sort.bam ../data/E098-H3K36me3.sort.bam ../data/E098-H3K4me1.sort.bam ../data/E098-H3K4me3.sort.bam ../data/E098-H3K9me3.sort.bam', 'E098'), ('../data/E100-H3K27me3.sort.bam ../data/E100-H3K36me3.sort.bam ../data/E100-H3K4me1.sort.bam ../data/E100-H3K4me3.sort.bam ../data/E100-H3K9me3.sort.bam', 'E100'), ('../data/E104-H3K27me3.sort.bam ../data/E104-H3K36me3.sort.bam ../data/E104-H3K4me1.sort.bam ../data/E104-H3K4me3.sort.bam ../data/E104-H3K9me3.sort.bam', 'E104'), ('../data/E105-H3K27me3.sort.bam ../data/E105-H3K36me3.sort.bam ../data/E105-H3K4me1.sort.bam ../data/E105-H3K4me3.sort.bam ../data/E105-H3K9me3.sort.bam', 'E105'), ('../data/E106-H3K27me3.sort.bam ../data/E106-H3K36me3.sort.bam ../data/E106-H3K4me1.sort.bam ../data/E106-H3K4me3.sort.bam ../data/E106-H3K9me3.sort.bam', 'E106'), ('../data/E109-H3K27me3.sort.bam ../data/E109-H3K36me3.sort.bam ../data/E109-H3K4me1.sort.bam ../data/E109-H3K4me3.sort.bam ../data/E109-H3K9me3.sort.bam', 'E109'), ('../data/E112-H3K27me3.sort.bam ../data/E112-H3K36me3.sort.bam ../data/E112-H3K4me1.sort.bam ../data/E112-H3K4me3.sort.bam ../data/E112-H3K9me3.sort.bam', 'E112'), ('../data/E113-H3K27me3.sort.bam ../data/E113-H3K36me3.sort.bam ../data/E113-H3K4me1.sort.bam ../data/E113-H3K4me3.sort.bam ../data/E113-H3K9me3.sort.bam', 'E113'), ('../data/E114-H3K27me3.sort.bam ../data/E114-H3K36me3.sort.bam ../data/E114-H3K4me1.sort.bam ../data/E114-H3K4me3.sort.bam ../data/E114-H3K9me3.sort.bam', 'E114'), ('../data/E116-H3K27me3.sort.bam ../data/E116-H3K36me3.sort.bam ../data/E116-H3K4me1.sort.bam ../data/E116-H3K4me3.sort.bam ../data/E116-H3K9me3.sort.bam', 'E116'), ('../data/E117-H3K27me3.sort.bam ../data/E117-H3K36me3.sort.bam ../data/E117-H3K4me1.sort.bam ../data/E117-H3K4me3.sort.bam ../data/E117-H3K9me3.sort.bam', 'E117'), ('../data/E118-H3K27me3.sort.bam ../data/E118-H3K36me3.sort.bam ../data/E118-H3K4me1.sort.bam ../data/E118-H3K4me3.sort.bam ../data/E118-H3K9me3.sort.bam', 'E118'), ('../data/E119-H3K27me3.sort.bam ../data/E119-H3K36me3.sort.bam ../data/E119-H3K4me1.sort.bam ../data/E119-H3K4me3.sort.bam ../data/E119-H3K9me3.sort.bam', 'E119'), ('../data/E120-H3K27me3.sort.bam ../data/E120-H3K36me3.sort.bam ../data/E120-H3K4me1.sort.bam ../data/E120-H3K4me3.sort.bam ../data/E120-H3K9me3.sort.bam', 'E120'), ('../data/E122-H3K27me3.sort.bam ../data/E122-H3K36me3.sort.bam ../data/E122-H3K4me1.sort.bam ../data/E122-H3K4me3.sort.bam ../data/E122-H3K9me3.sort.bam', 'E122'), ('../data/E123-H3K27me3.sort.bam ../data/E123-H3K36me3.sort.bam ../data/E123-H3K4me1.sort.bam ../data/E123-H3K4me3.sort.bam ../data/E123-H3K9me3.sort.bam', 'E123'), ('../data/E127-H3K27me3.sort.bam ../data/E127-H3K36me3.sort.bam ../data/E127-H3K4me1.sort.bam ../data/E127-H3K4me3.sort.bam ../data/E127-H3K9me3.sort.bam', 'E127'), ('../data/E128-H3K27me3.sort.bam ../data/E128-H3K36me3.sort.bam ../data/E128-H3K4me1.sort.bam ../data/E128-H3K4me3.sort.bam ../data/E128-H3K9me3.sort.bam', 'E128')]\n"
     ]
    },
    {
     "ename": "KeyboardInterrupt",
     "evalue": "",
     "output_type": "error",
     "traceback": [
      "\u001b[0;31m---------------------------------------------------------------------------\u001b[0m",
      "\u001b[0;31mKeyboardInterrupt\u001b[0m                         Traceback (most recent call last)",
      "\u001b[0;32m<ipython-input-140-a1098b95acab>\u001b[0m in \u001b[0;36m<module>\u001b[0;34m()\u001b[0m\n\u001b[1;32m     25\u001b[0m     \u001b[0mfilenames\u001b[0m\u001b[0;34m.\u001b[0m\u001b[0mappend\u001b[0m\u001b[0;34m(\u001b[0m\u001b[0;34m(\u001b[0m\u001b[0mfiles\u001b[0m\u001b[0;34m,\u001b[0m \u001b[0mepigenome\u001b[0m\u001b[0;34m)\u001b[0m\u001b[0;34m)\u001b[0m\u001b[0;34m\u001b[0m\u001b[0m\n\u001b[1;32m     26\u001b[0m \u001b[0mprint\u001b[0m\u001b[0;34m(\u001b[0m\u001b[0mfilenames\u001b[0m\u001b[0;34m)\u001b[0m\u001b[0;34m\u001b[0m\u001b[0m\n\u001b[0;32m---> 27\u001b[0;31m \u001b[0m_\u001b[0m \u001b[0;34m=\u001b[0m \u001b[0mParallel\u001b[0m\u001b[0;34m(\u001b[0m\u001b[0mn_jobs\u001b[0m\u001b[0;34m=\u001b[0m\u001b[0mNTHREADS\u001b[0m\u001b[0;34m)\u001b[0m\u001b[0;34m(\u001b[0m\u001b[0mdelayed\u001b[0m\u001b[0;34m(\u001b[0m\u001b[0mdo\u001b[0m\u001b[0;34m)\u001b[0m\u001b[0;34m(\u001b[0m\u001b[0mfiles\u001b[0m\u001b[0;34m,\u001b[0m \u001b[0mepigenome\u001b[0m\u001b[0;34m)\u001b[0m \u001b[0;32mfor\u001b[0m \u001b[0;34m(\u001b[0m\u001b[0mfiles\u001b[0m\u001b[0;34m,\u001b[0m \u001b[0mepigenome\u001b[0m\u001b[0;34m)\u001b[0m \u001b[0;32min\u001b[0m \u001b[0mfilenames\u001b[0m\u001b[0;34m)\u001b[0m\u001b[0;34m\u001b[0m\u001b[0m\n\u001b[0m",
      "\u001b[0;32m~/.pyenv/versions/3.6.2/lib/python3.6/site-packages/joblib/parallel.py\u001b[0m in \u001b[0;36m__call__\u001b[0;34m(self, iterable)\u001b[0m\n\u001b[1;32m    787\u001b[0m                 \u001b[0;31m# consumption.\u001b[0m\u001b[0;34m\u001b[0m\u001b[0;34m\u001b[0m\u001b[0m\n\u001b[1;32m    788\u001b[0m                 \u001b[0mself\u001b[0m\u001b[0;34m.\u001b[0m\u001b[0m_iterating\u001b[0m \u001b[0;34m=\u001b[0m \u001b[0;32mFalse\u001b[0m\u001b[0;34m\u001b[0m\u001b[0m\n\u001b[0;32m--> 789\u001b[0;31m             \u001b[0mself\u001b[0m\u001b[0;34m.\u001b[0m\u001b[0mretrieve\u001b[0m\u001b[0;34m(\u001b[0m\u001b[0;34m)\u001b[0m\u001b[0;34m\u001b[0m\u001b[0m\n\u001b[0m\u001b[1;32m    790\u001b[0m             \u001b[0;31m# Make sure that we get a last message telling us we are done\u001b[0m\u001b[0;34m\u001b[0m\u001b[0;34m\u001b[0m\u001b[0m\n\u001b[1;32m    791\u001b[0m             \u001b[0melapsed_time\u001b[0m \u001b[0;34m=\u001b[0m \u001b[0mtime\u001b[0m\u001b[0;34m.\u001b[0m\u001b[0mtime\u001b[0m\u001b[0;34m(\u001b[0m\u001b[0;34m)\u001b[0m \u001b[0;34m-\u001b[0m \u001b[0mself\u001b[0m\u001b[0;34m.\u001b[0m\u001b[0m_start_time\u001b[0m\u001b[0;34m\u001b[0m\u001b[0m\n",
      "\u001b[0;32m~/.pyenv/versions/3.6.2/lib/python3.6/site-packages/joblib/parallel.py\u001b[0m in \u001b[0;36mretrieve\u001b[0;34m(self)\u001b[0m\n\u001b[1;32m    697\u001b[0m             \u001b[0;32mtry\u001b[0m\u001b[0;34m:\u001b[0m\u001b[0;34m\u001b[0m\u001b[0m\n\u001b[1;32m    698\u001b[0m                 \u001b[0;32mif\u001b[0m \u001b[0mgetattr\u001b[0m\u001b[0;34m(\u001b[0m\u001b[0mself\u001b[0m\u001b[0;34m.\u001b[0m\u001b[0m_backend\u001b[0m\u001b[0;34m,\u001b[0m \u001b[0;34m'supports_timeout'\u001b[0m\u001b[0;34m,\u001b[0m \u001b[0;32mFalse\u001b[0m\u001b[0;34m)\u001b[0m\u001b[0;34m:\u001b[0m\u001b[0;34m\u001b[0m\u001b[0m\n\u001b[0;32m--> 699\u001b[0;31m                     \u001b[0mself\u001b[0m\u001b[0;34m.\u001b[0m\u001b[0m_output\u001b[0m\u001b[0;34m.\u001b[0m\u001b[0mextend\u001b[0m\u001b[0;34m(\u001b[0m\u001b[0mjob\u001b[0m\u001b[0;34m.\u001b[0m\u001b[0mget\u001b[0m\u001b[0;34m(\u001b[0m\u001b[0mtimeout\u001b[0m\u001b[0;34m=\u001b[0m\u001b[0mself\u001b[0m\u001b[0;34m.\u001b[0m\u001b[0mtimeout\u001b[0m\u001b[0;34m)\u001b[0m\u001b[0;34m)\u001b[0m\u001b[0;34m\u001b[0m\u001b[0m\n\u001b[0m\u001b[1;32m    700\u001b[0m                 \u001b[0;32melse\u001b[0m\u001b[0;34m:\u001b[0m\u001b[0;34m\u001b[0m\u001b[0m\n\u001b[1;32m    701\u001b[0m                     \u001b[0mself\u001b[0m\u001b[0;34m.\u001b[0m\u001b[0m_output\u001b[0m\u001b[0;34m.\u001b[0m\u001b[0mextend\u001b[0m\u001b[0;34m(\u001b[0m\u001b[0mjob\u001b[0m\u001b[0;34m.\u001b[0m\u001b[0mget\u001b[0m\u001b[0;34m(\u001b[0m\u001b[0;34m)\u001b[0m\u001b[0;34m)\u001b[0m\u001b[0;34m\u001b[0m\u001b[0m\n",
      "\u001b[0;32m~/.pyenv/versions/3.6.2/lib/python3.6/multiprocessing/pool.py\u001b[0m in \u001b[0;36mget\u001b[0;34m(self, timeout)\u001b[0m\n\u001b[1;32m    636\u001b[0m \u001b[0;34m\u001b[0m\u001b[0m\n\u001b[1;32m    637\u001b[0m     \u001b[0;32mdef\u001b[0m \u001b[0mget\u001b[0m\u001b[0;34m(\u001b[0m\u001b[0mself\u001b[0m\u001b[0;34m,\u001b[0m \u001b[0mtimeout\u001b[0m\u001b[0;34m=\u001b[0m\u001b[0;32mNone\u001b[0m\u001b[0;34m)\u001b[0m\u001b[0;34m:\u001b[0m\u001b[0;34m\u001b[0m\u001b[0m\n\u001b[0;32m--> 638\u001b[0;31m         \u001b[0mself\u001b[0m\u001b[0;34m.\u001b[0m\u001b[0mwait\u001b[0m\u001b[0;34m(\u001b[0m\u001b[0mtimeout\u001b[0m\u001b[0;34m)\u001b[0m\u001b[0;34m\u001b[0m\u001b[0m\n\u001b[0m\u001b[1;32m    639\u001b[0m         \u001b[0;32mif\u001b[0m \u001b[0;32mnot\u001b[0m \u001b[0mself\u001b[0m\u001b[0;34m.\u001b[0m\u001b[0mready\u001b[0m\u001b[0;34m(\u001b[0m\u001b[0;34m)\u001b[0m\u001b[0;34m:\u001b[0m\u001b[0;34m\u001b[0m\u001b[0m\n\u001b[1;32m    640\u001b[0m             \u001b[0;32mraise\u001b[0m \u001b[0mTimeoutError\u001b[0m\u001b[0;34m\u001b[0m\u001b[0m\n",
      "\u001b[0;32m~/.pyenv/versions/3.6.2/lib/python3.6/multiprocessing/pool.py\u001b[0m in \u001b[0;36mwait\u001b[0;34m(self, timeout)\u001b[0m\n\u001b[1;32m    633\u001b[0m \u001b[0;34m\u001b[0m\u001b[0m\n\u001b[1;32m    634\u001b[0m     \u001b[0;32mdef\u001b[0m \u001b[0mwait\u001b[0m\u001b[0;34m(\u001b[0m\u001b[0mself\u001b[0m\u001b[0;34m,\u001b[0m \u001b[0mtimeout\u001b[0m\u001b[0;34m=\u001b[0m\u001b[0;32mNone\u001b[0m\u001b[0;34m)\u001b[0m\u001b[0;34m:\u001b[0m\u001b[0;34m\u001b[0m\u001b[0m\n\u001b[0;32m--> 635\u001b[0;31m         \u001b[0mself\u001b[0m\u001b[0;34m.\u001b[0m\u001b[0m_event\u001b[0m\u001b[0;34m.\u001b[0m\u001b[0mwait\u001b[0m\u001b[0;34m(\u001b[0m\u001b[0mtimeout\u001b[0m\u001b[0;34m)\u001b[0m\u001b[0;34m\u001b[0m\u001b[0m\n\u001b[0m\u001b[1;32m    636\u001b[0m \u001b[0;34m\u001b[0m\u001b[0m\n\u001b[1;32m    637\u001b[0m     \u001b[0;32mdef\u001b[0m \u001b[0mget\u001b[0m\u001b[0;34m(\u001b[0m\u001b[0mself\u001b[0m\u001b[0;34m,\u001b[0m \u001b[0mtimeout\u001b[0m\u001b[0;34m=\u001b[0m\u001b[0;32mNone\u001b[0m\u001b[0;34m)\u001b[0m\u001b[0;34m:\u001b[0m\u001b[0;34m\u001b[0m\u001b[0m\n",
      "\u001b[0;32m~/.pyenv/versions/3.6.2/lib/python3.6/threading.py\u001b[0m in \u001b[0;36mwait\u001b[0;34m(self, timeout)\u001b[0m\n\u001b[1;32m    549\u001b[0m             \u001b[0msignaled\u001b[0m \u001b[0;34m=\u001b[0m \u001b[0mself\u001b[0m\u001b[0;34m.\u001b[0m\u001b[0m_flag\u001b[0m\u001b[0;34m\u001b[0m\u001b[0m\n\u001b[1;32m    550\u001b[0m             \u001b[0;32mif\u001b[0m \u001b[0;32mnot\u001b[0m \u001b[0msignaled\u001b[0m\u001b[0;34m:\u001b[0m\u001b[0;34m\u001b[0m\u001b[0m\n\u001b[0;32m--> 551\u001b[0;31m                 \u001b[0msignaled\u001b[0m \u001b[0;34m=\u001b[0m \u001b[0mself\u001b[0m\u001b[0;34m.\u001b[0m\u001b[0m_cond\u001b[0m\u001b[0;34m.\u001b[0m\u001b[0mwait\u001b[0m\u001b[0;34m(\u001b[0m\u001b[0mtimeout\u001b[0m\u001b[0;34m)\u001b[0m\u001b[0;34m\u001b[0m\u001b[0m\n\u001b[0m\u001b[1;32m    552\u001b[0m             \u001b[0;32mreturn\u001b[0m \u001b[0msignaled\u001b[0m\u001b[0;34m\u001b[0m\u001b[0m\n\u001b[1;32m    553\u001b[0m \u001b[0;34m\u001b[0m\u001b[0m\n",
      "\u001b[0;32m~/.pyenv/versions/3.6.2/lib/python3.6/threading.py\u001b[0m in \u001b[0;36mwait\u001b[0;34m(self, timeout)\u001b[0m\n\u001b[1;32m    293\u001b[0m         \u001b[0;32mtry\u001b[0m\u001b[0;34m:\u001b[0m    \u001b[0;31m# restore state no matter what (e.g., KeyboardInterrupt)\u001b[0m\u001b[0;34m\u001b[0m\u001b[0m\n\u001b[1;32m    294\u001b[0m             \u001b[0;32mif\u001b[0m \u001b[0mtimeout\u001b[0m \u001b[0;32mis\u001b[0m \u001b[0;32mNone\u001b[0m\u001b[0;34m:\u001b[0m\u001b[0;34m\u001b[0m\u001b[0m\n\u001b[0;32m--> 295\u001b[0;31m                 \u001b[0mwaiter\u001b[0m\u001b[0;34m.\u001b[0m\u001b[0macquire\u001b[0m\u001b[0;34m(\u001b[0m\u001b[0;34m)\u001b[0m\u001b[0;34m\u001b[0m\u001b[0m\n\u001b[0m\u001b[1;32m    296\u001b[0m                 \u001b[0mgotit\u001b[0m \u001b[0;34m=\u001b[0m \u001b[0;32mTrue\u001b[0m\u001b[0;34m\u001b[0m\u001b[0m\n\u001b[1;32m    297\u001b[0m             \u001b[0;32melse\u001b[0m\u001b[0;34m:\u001b[0m\u001b[0;34m\u001b[0m\u001b[0m\n",
      "\u001b[0;31mKeyboardInterrupt\u001b[0m: "
     ]
    }
   ],
   "source": [
    "def do(files, epigenome):\n",
    "    result = run(\n",
    "        f\"bedtools multicov -bams {files} -bed ../data/interest.bed\".split(), \n",
    "        stdout=PIPE, stderr=PIPE\n",
    "    )\n",
    "    if result.returncode != 0:\n",
    "        print(f\"Command fail\")\n",
    "        print(result.stdout, result.stderr)\n",
    "        \n",
    "    with open(f\"../data/{epigenome}.csv\", \"wb\") as f:\n",
    "        f.write(result.stdout)\n",
    "        \n",
    "filenames = []\n",
    "\n",
    "for epigenome in epigenomes: \n",
    "    pathes = []\n",
    "    for histone in histones:\n",
    "        filename = f\"{epigenome}-{histone}\"\n",
    "        path = f\"../data/{filename}.sort.bam\"\n",
    "        pathes.append(path)\n",
    "\n",
    "    files = \" \".join(pathes)\n",
    "    if Path(f\"../data/{epigenome}.csv\").is_file():\n",
    "        continue\n",
    "    filenames.append((files, epigenome))\n",
    "\n",
    "_ = Parallel(n_jobs=NTHREADS)(delayed(do)(files, epigenome) for (files, epigenome) in filenames)"
   ]
  },
  {
   "cell_type": "markdown",
   "metadata": {},
   "source": [
    "# Generate XY"
   ]
  },
  {
   "cell_type": "code",
   "execution_count": 183,
   "metadata": {},
   "outputs": [],
   "source": [
    "Xs = []\n",
    "Ys = []\n",
    "for epigenome in epigenomes:\n",
    "    if Path(f\"../data/{epigenome}.csv\").is_file():\n",
    "        df = pd.read_csv(f\"../data/{epigenome}.csv\", delimiter=\"\\t\", header=None, index_col=None)\n",
    "        names = []\n",
    "        groups = []\n",
    "        for idx in range(len(df)//100):\n",
    "            selection = df.iloc[idx*100:idx*100+100]\n",
    "            names.append(selection[3].iloc[0])\n",
    "            groups.append(selection[[4,5,6,7,8]].values[None,:,:])\n",
    "        X = np.concatenate(groups)\n",
    "        rawY = gene_expresson.set_index(\"gene_id\").loc[names].E003\n",
    "        Y = (rawY > rawY.median()) + 0\n",
    "        Xs.append(X)\n",
    "        Ys.append(Y)\n",
    "        \n",
    "Xs = np.concatenate([X[None,:,:,:] for X in Xs])\n",
    "Ys = np.concatenate([Y[None,:] for Y in Ys])"
   ]
  },
  {
   "cell_type": "code",
   "execution_count": 194,
   "metadata": {},
   "outputs": [],
   "source": [
    "with open(\"../data/input.pkl\", \"wb\") as f:\n",
    "    dump((Xs, Ys), f)"
   ]
  }
 ],
 "metadata": {
  "kernelspec": {
   "display_name": "Python 3",
   "language": "python",
   "name": "python3"
  },
  "language_info": {
   "codemirror_mode": {
    "name": "ipython",
    "version": 3
   },
   "file_extension": ".py",
   "mimetype": "text/x-python",
   "name": "python",
   "nbconvert_exporter": "python",
   "pygments_lexer": "ipython3",
   "version": "3.6.2"
  }
 },
 "nbformat": 4,
 "nbformat_minor": 2
}
